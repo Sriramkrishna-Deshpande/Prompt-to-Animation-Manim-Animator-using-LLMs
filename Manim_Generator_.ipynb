{
  "nbformat": 4,
  "nbformat_minor": 0,
  "metadata": {
    "colab": {
      "provenance": [],
      "authorship_tag": "ABX9TyPomwDIrPZdUdkGWWtGrrdt",
      "include_colab_link": true
    },
    "kernelspec": {
      "name": "python3",
      "display_name": "Python 3"
    },
    "language_info": {
      "name": "python"
    }
  },
  "cells": [
    {
      "cell_type": "markdown",
      "metadata": {
        "id": "view-in-github",
        "colab_type": "text"
      },
      "source": [
        "<a href=\"https://colab.research.google.com/github/Sriramkrishna-Deshpande/Prompt-to-Animation-Manim-Animator-using-LLMs/blob/main/Manim_Generator_.ipynb\" target=\"_parent\"><img src=\"https://colab.research.google.com/assets/colab-badge.svg\" alt=\"Open In Colab\"/></a>"
      ]
    },
    {
      "cell_type": "markdown",
      "source": [
        "**First run the below cell to install pre requistes before starting.**\n",
        "*It will consume typically 3-4 mins and then  \n",
        "*  **Restart the session**\n",
        "*  **Get Your API Key FROM Here  :[Groq API Keys ](https://console.groq.com/playground?model=llama-3.3-70b-versatile)**"
      ],
      "metadata": {
        "id": "AdpAAYzpgYqt"
      }
    },
    {
      "cell_type": "code",
      "source": [
        "!sudo apt update\n",
        "!sudo apt install libcairo2-dev \\\n",
        "    texlive texlive-latex-extra texlive-fonts-extra \\\n",
        "    texlive-latex-recommended texlive-science \\\n",
        "    tipa libpango1.0-dev\n",
        "!pip install manim\n",
        "!pip install IPython==8.21.0\n",
        "!pip install langchain-groq  langchain-community\n"
      ],
      "metadata": {
        "id": "bjW_iBHygXgp"
      },
      "execution_count": null,
      "outputs": []
    },
    {
      "cell_type": "markdown",
      "source": [
        "*Import All Nessary Libraries*"
      ],
      "metadata": {
        "id": "m7ByZ_i1grwY"
      }
    },
    {
      "cell_type": "code",
      "source": [
        "import os\n",
        "import subprocess\n",
        "from langchain_core.prompts import PromptTemplate\n",
        "from langchain_groq import ChatGroq\n",
        "from langchain_core.output_parsers import StrOutputParser\n",
        "from langchain_core.runnables import RunnablePassthrough\n",
        "from IPython.display import Video, display\n"
      ],
      "metadata": {
        "id": "MoBetuZ4h_i2"
      },
      "execution_count": null,
      "outputs": []
    },
    {
      "cell_type": "code",
      "source": [
        " Set your Groq API key\n",
        "os.environ[\"GROQ_API_KEY\"] =\" \"#Enter your API Key\n",
        "\n",
        "# Initialize the LLM\n",
        "llm = ChatGroq(\n",
        "    temperature=0.7,  # lower for better consistency\n",
        "    model=\"llama-3-70b-8192-versatile\",\n",
        "    groq_api_key=os.environ[\"GROQ_API_KEY\"]\n",
        ")\n",
        "\n",
        "# Define a stricter, smarter prompt\n",
        "prompt = PromptTemplate(\n",
        "    input_variables=[\"user_input\"],\n",
        "    template=\"\"\"\n",
        "You are a Manim CE v0.19.0 animation expert. Given a description, generate clean, executable Python code with:\n",
        "- Only this import: from manim import *\n",
        "- Use: import math, import numpy as np if needed\n",
        "- One class only: GeneratedScene(Scene)\n",
        "- No comments, markdown, text outside the code\n",
        "- No placeholders or explanations\n",
        "\n",
        "The code must run directly with: manim -ql GeneratedScene.py GeneratedScene\n",
        "\n",
        "User description:\n",
        "{user_input}\n",
        "\n",
        "Now output only valid Manim Python code below:\n",
        "\"\"\"\n",
        ")\n",
        "\n",
        "# Create the main chain\n",
        "chain = (\n",
        "    {\"user_input\": RunnablePassthrough()}\n",
        "    | prompt\n",
        "    | llm\n",
        "    | StrOutputParser()\n",
        ")\n",
        "\n",
        "def inject_missing_imports(code):\n",
        "    \"\"\"\n",
        "    Ensure essential imports like `math` and `numpy` are present.\n",
        "    \"\"\"\n",
        "    required = []\n",
        "    if \"math.\" in code and \"import math\" not in code:\n",
        "        required.append(\"import math\")\n",
        "    if (\"np.\" in code or \"numpy\" in code) and \"import numpy as np\" not in code:\n",
        "        required.append(\"import numpy as np\")\n",
        "    return \"\\n\".join(required) + \"\\n\" + code if required else code\n",
        "\n",
        "def run_manim_code(manim_code, output_dir=\"manim_output\", scene_name=\"GeneratedScene\"):\n",
        "    try:\n",
        "        if \"from manim import *\" not in manim_code or f\"class {scene_name}(Scene):\" not in manim_code:\n",
        "            return \"Error: Generated code is invalid (missing imports or scene class)\"\n",
        "\n",
        "        os.makedirs(output_dir, exist_ok=True)\n",
        "\n",
        "        # Save code\n",
        "        code_file = os.path.join(output_dir, f\"{scene_name}.py\")\n",
        "        with open(code_file, \"w\") as f:\n",
        "            f.write(manim_code)\n",
        "\n",
        "        output_video_dir = os.path.join(output_dir, \"videos\", scene_name, \"480p15\")\n",
        "        manim_command = [\n",
        "            \"manim\", \"-ql\", \"--media_dir\", output_dir,\n",
        "            code_file, scene_name\n",
        "        ]\n",
        "\n",
        "        result = subprocess.run(\n",
        "            manim_command,\n",
        "            capture_output=True,\n",
        "            text=True\n",
        "        )\n",
        "\n",
        "        if result.returncode != 0:\n",
        "            return f\"RuntimeError: {result.stderr.strip()}\"\n",
        "\n",
        "        video_file = os.path.join(output_video_dir, f\"{scene_name}.mp4\")\n",
        "        return video_file if os.path.exists(video_file) else \"Error: Video not found.\"\n",
        "\n",
        "    except Exception as e:\n",
        "        return f\"Exception: {str(e)}\"\n",
        "\n",
        "def auto_repair_code(broken_code, error_msg):\n",
        "    \"\"\"\n",
        "    Use the LLM to revise based on the error.\n",
        "    \"\"\"\n",
        "    fix_prompt = f\"\"\"\n",
        "The following Manim code failed with the given error. Fix it.\n",
        "\n",
        "Code:\n",
        "{broken_code}\n",
        "\n",
        "Error:\n",
        "{error_msg}\n",
        "\n",
        "Generate corrected Manim CE v0.19.0 code, no comments or explanations.\n",
        "\"\"\"\n",
        "    return llm.invoke(fix_prompt)\n",
        "\n",
        "def main():\n",
        "    user_input = input(\"Enter the description of the animation: \")\n",
        "\n",
        "    for attempt in range(3):\n",
        "        print(f\"\\nAttempt {attempt + 1}...\")\n",
        "\n",
        "        try:\n",
        "            manim_code = chain.invoke(user_input)\n",
        "            manim_code = inject_missing_imports(manim_code)\n",
        "\n",
        "            result = run_manim_code(manim_code)\n",
        "\n",
        "            if result.endswith(\".mp4\"):\n",
        "                print(\"Animation Rendered:\", result)\n",
        "                display(Video(result, embed=True))\n",
        "                return\n",
        "            else:\n",
        "                print(\" Error:\", result)\n",
        "                manim_code = auto_repair_code(manim_code, result)\n",
        "\n",
        "        except Exception as e:\n",
        "            print(f\"Exception during generation: {e}\")\n",
        "\n",
        "    print(\"\\nAll attempts failed. Please refine your prompt or check the code manually.\")\n",
        "\n",
        "if __name__ == \"__main__\":\n",
        "    main()\n"
      ],
      "metadata": {
        "id": "D1MrJYoRimY2"
      },
      "execution_count": null,
      "outputs": []
    },
    {
      "cell_type": "markdown",
      "source": [],
      "metadata": {
        "id": "X1b_-iTMiBwg"
      }
    }
  ]
}